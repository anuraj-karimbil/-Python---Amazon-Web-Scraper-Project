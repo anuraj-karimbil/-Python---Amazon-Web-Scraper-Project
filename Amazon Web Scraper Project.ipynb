{
 "cells": [
  {
   "cell_type": "code",
   "execution_count": 142,
   "id": "35a087a3-18b5-4c27-9dda-e9302d1296e4",
   "metadata": {},
   "outputs": [],
   "source": [
    "#import libraries\n",
    "\n",
    "from bs4 import BeautifulSoup\n",
    "import requests\n",
    "import smtplib\n",
    "import time\n",
    "import datetime\n"
   ]
  },
  {
   "cell_type": "code",
   "execution_count": 103,
   "id": "ba18bd49-a339-44ab-b363-104e20bc779e",
   "metadata": {},
   "outputs": [
    {
     "name": "stdout",
     "output_type": "stream",
     "text": [
      "\n",
      "                    Data Analyst Data Scientist Data Analysis T-Shirt\n",
      "                   \n",
      "\n",
      "\n",
      "\n",
      "\n",
      "\n",
      "                     Price:\n",
      "                    \n",
      "\n",
      "\n",
      "\n",
      "                       $13.38\n",
      "                      \n",
      "\n",
      "                       $13.38\n",
      "                      \n",
      "\n",
      "\n",
      "\n",
      "\n",
      "\n",
      "\n",
      "\n",
      "\n",
      "\n",
      "\n",
      "\n",
      "\n",
      "\n",
      "\n",
      "\n",
      "\n",
      "\n",
      "\n",
      "\n",
      "\n",
      "\n",
      "\n",
      "\n",
      "\n",
      "\n"
     ]
    }
   ],
   "source": [
    "#Connect to website and pull in data\n",
    "\n",
    "URL='https://www.amazon.com/Data-Analyst-Scientist-Analysis-T-Shirt/dp/B0C1TGWQ53/ref=sr_1_9?crid=2YIP6POEAX4VQ&dib=eyJ2IjoiMSJ9.H_xD2LC8KXJb_HUr4wTcfacwgm8Tle1qw98mrSQzL0EXY_f1m9Fjyn8qzR7L7XsXmHBM4eNb0xQPD_67Xbp6Lxd9kPsLF-RrPqC9_AG1wjTg0glqNLgpS_9GKrD8EJvbQO5AXnxI_PhPna3sumcKgxc7ftC7ZcCWgenVkr1Fyvy3wcxq2hSQ2GGK1OUnZuF-x5MehT-5rPLVxu96s70MXWKeY_11FBxG-tiAEw84WmKFU-3w76YOcty9UZZt5zCg0lkfm8Ktpp5p3FLQY7hXOxZO8tS0NC8B6HcCdkLfBWo.5iCdCPB3myacMZvSDIAlVz6xlymHVxUoqt4yN6BKD7g&dib_tag=se&keywords=data+analyst+t+shirt&qid=1728186266&sprefix=data+analyst+t+sh%2Caps%2C401&sr=8-9'\n",
    "\n",
    "headers = {\"User-Agent\": \"Mozilla/5.0 (Windows NT 10.0; Win64; x64) AppleWebKit/537.36 (KHTML, like Gecko) Chrome/129.0.0.0 Safari/537.36\", \"Accept-Encoding\":\"gzip, deflate\", \"Accept\":\"text/html,application/xhtml+xml,application/xml;q=0.9,*/*;q=0.8\", \"DNT\":\"1\",\"Connection\":\"close\", \"Upgrade-Insecure-Requests\":\"1\"}\n",
    "\n",
    "page = requests.get(URL, headers=headers)\n",
    "\n",
    "soup1 = BeautifulSoup(page.content,\"html.parser\")\n",
    "\n",
    "soup2 = BeautifulSoup(soup1.prettify(), \"html.parser\")\n",
    "\n",
    "title = soup2.find(id='productTitle').get_text()\n",
    "\n",
    "price = soup2.find(id='corePrice_desktop').get_text()\n",
    "\n",
    "print(title)\n",
    "print(price)\n",
    "\n",
    "\n"
   ]
  },
  {
   "cell_type": "code",
   "execution_count": 105,
   "id": "4c2ada7b-7247-4082-84d8-7c94519bb717",
   "metadata": {},
   "outputs": [
    {
     "name": "stdout",
     "output_type": "stream",
     "text": [
      "Data Analyst Data Scientist Data Analysis T-Shirt\n",
      "13.38\n"
     ]
    }
   ],
   "source": [
    "# Clean up the data a little bit\n",
    "\n",
    "price=price.strip()[55:60]\n",
    "title=title.strip()\n",
    "\n",
    "print(title)\n",
    "print(price)"
   ]
  },
  {
   "cell_type": "code",
   "execution_count": 107,
   "id": "0e10d9b3-9b0a-4d4b-b9c0-b8459a057feb",
   "metadata": {},
   "outputs": [
    {
     "name": "stdout",
     "output_type": "stream",
     "text": [
      "2024-10-11\n"
     ]
    }
   ],
   "source": [
    "# Create a Timestamp for your output to track when data was collected\n",
    "\n",
    "import datetime\n",
    "\n",
    "today=datetime.date.today()\n",
    "\n",
    "print(today)"
   ]
  },
  {
   "cell_type": "code",
   "execution_count": 115,
   "id": "e1c9c129-6029-4da0-b16e-3d51a826a76a",
   "metadata": {},
   "outputs": [],
   "source": [
    "# Create CSV and write headers and data into the file\n",
    "\n",
    "import csv\n",
    "import datetime\n",
    "\n",
    "header = ['Title','Price','Date']\n",
    "data = [title, price, today]\n",
    "\n",
    "with open('AmazonWebScraperDataset.csv','w',newline='',encoding='UTF8') as f:\n",
    "    writer= csv.writer(f)\n",
    "    writer.writerow(header)\n",
    "    writer.writerow(data) \n",
    "\n"
   ]
  },
  {
   "cell_type": "code",
   "execution_count": 150,
   "id": "5612d921-aec2-40a4-843e-dfcda8018c6c",
   "metadata": {},
   "outputs": [
    {
     "name": "stdout",
     "output_type": "stream",
     "text": [
      "                                               Title  Price        Date\n",
      "0  Data Analyst Data Scientist Data Analysis T-Shirt  13.38  2024-10-11\n",
      "1  Data Analyst Data Scientist Data Analysis T-Shirt  13.38  2024-10-11\n",
      "2  Data Analyst Data Scientist Data Analysis T-Shirt  13.38  2024-10-11\n",
      "3  Data Analyst Data Scientist Data Analysis T-Shirt  13.38  2024-10-11\n"
     ]
    }
   ],
   "source": [
    "import pandas as pd\n",
    "\n",
    "df = pd.read_csv(r'C:\\Users\\anuraj karimbil\\AmazonWebScraperDataset.csv')\n",
    "\n",
    "print(df)"
   ]
  },
  {
   "cell_type": "code",
   "execution_count": 148,
   "id": "5f49d600-25d5-497c-8067-1f13309a716b",
   "metadata": {},
   "outputs": [],
   "source": [
    "#appending data to the csv\n",
    "\n",
    "with open('AmazonWebScraperDataset.csv','a+',newline='',encoding='UTF8') as f:\n",
    "    writer= csv.writer(f)\n",
    "    writer.writerow(data) "
   ]
  },
  {
   "cell_type": "code",
   "execution_count": 193,
   "id": "52dda330-f0cd-4816-9445-31be3a734bfc",
   "metadata": {},
   "outputs": [],
   "source": [
    "#Combine all of the above code into one function\n",
    "\n",
    "def check_price():\n",
    "\n",
    "    URL='https://www.amazon.com/Data-Analyst-Scientist-Analysis-T-Shirt/dp/B0C1TGWQ53/ref=sr_1_9?crid=2YIP6POEAX4VQ&dib=eyJ2IjoiMSJ9.H_xD2LC8KXJb_HUr4wTcfacwgm8Tle1qw98mrSQzL0EXY_f1m9Fjyn8qzR7L7XsXmHBM4eNb0xQPD_67Xbp6Lxd9kPsLF-RrPqC9_AG1wjTg0glqNLgpS_9GKrD8EJvbQO5AXnxI_PhPna3sumcKgxc7ftC7ZcCWgenVkr1Fyvy3wcxq2hSQ2GGK1OUnZuF-x5MehT-5rPLVxu96s70MXWKeY_11FBxG-tiAEw84WmKFU-3w76YOcty9UZZt5zCg0lkfm8Ktpp5p3FLQY7hXOxZO8tS0NC8B6HcCdkLfBWo.5iCdCPB3myacMZvSDIAlVz6xlymHVxUoqt4yN6BKD7g&dib_tag=se&keywords=data+analyst+t+shirt&qid=1728186266&sprefix=data+analyst+t+sh%2Caps%2C401&sr=8-9'\n",
    "\n",
    "    headers = {\"User-Agent\": \"Mozilla/5.0 (Windows NT 10.0; Win64; x64) AppleWebKit/537.36 (KHTML, like Gecko) Chrome/129.0.0.0 Safari/537.36\", \"Accept-Encoding\":\"gzip, deflate\", \"Accept\":\"text/html,application/xhtml+xml,application/xml;q=0.9,*/*;q=0.8\", \"DNT\":\"1\",\"Connection\":\"close\", \"Upgrade-Insecure-Requests\":\"1\"}\n",
    "\n",
    "    page = requests.get(URL, headers=headers)\n",
    "\n",
    "    soup1 = BeautifulSoup(page.content,\"html.parser\")\n",
    "\n",
    "    soup2 = BeautifulSoup(soup1.prettify(), \"html.parser\")\n",
    "\n",
    "    title = soup2.find(id='productTitle').get_text()\n",
    "\n",
    "    price = soup2.find(id='corePrice_desktop').get_text()\n",
    "\n",
    "    price=price.strip()[55:60]\n",
    "    title=title.strip()\n",
    "\n",
    "    import datetime\n",
    "    today=datetime.date.today()\n",
    "\n",
    "    import csv\n",
    "    header = ['Title','Price','Date']\n",
    "    data = [title, price, today]\n",
    "\n",
    "   # Assuming this is the correct indentation level  \n",
    "with open('AmazonWebScraperDataset.csv', 'a+', newline='', encoding='UTF-8') as f:  \n",
    " \n",
    "\n",
    "    writer= csv.writer(f)\n",
    "    writer.writerow(data) \n",
    " "
   ]
  },
  {
   "cell_type": "code",
   "execution_count": null,
   "id": "f763a2db-1735-42ff-98c4-e726e4ebc37a",
   "metadata": {},
   "outputs": [],
   "source": [
    "# Runs check_price after a set time and inputs data into your CSV\n",
    "while(True):\n",
    "    check_price()\n",
    "    time.sleep(86400)"
   ]
  },
  {
   "cell_type": "code",
   "execution_count": 195,
   "id": "fa6e0f81-c292-4acd-8f9a-24510466b781",
   "metadata": {},
   "outputs": [
    {
     "name": "stdout",
     "output_type": "stream",
     "text": [
      "                                               Title  Price        Date\n",
      "0  Data Analyst Data Scientist Data Analysis T-Shirt  13.38  2024-10-11\n",
      "1  Data Analyst Data Scientist Data Analysis T-Shirt  13.38  2024-10-11\n",
      "2  Data Analyst Data Scientist Data Analysis T-Shirt  13.38  2024-10-11\n",
      "3  Data Analyst Data Scientist Data Analysis T-Shirt  13.38  2024-10-11\n",
      "4  Data Analyst Data Scientist Data Analysis T-Shirt  13.38  2024-10-11\n",
      "5  Data Analyst Data Scientist Data Analysis T-Shirt  13.38  2024-10-11\n",
      "6  Data Analyst Data Scientist Data Analysis T-Shirt  13.38  2024-10-11\n"
     ]
    }
   ],
   "source": [
    "import pandas as pd\n",
    "\n",
    "df = pd.read_csv(r'C:\\Users\\anuraj karimbil\\AmazonWebScraperDataset.csv')\n",
    "\n",
    "print(df)"
   ]
  },
  {
   "cell_type": "code",
   "execution_count": null,
   "id": "a907e9f2-bf4a-463d-848c-60a731830354",
   "metadata": {},
   "outputs": [],
   "source": [
    "# If we want to try sending an email when a price hits below a certain level we can try it\n",
    "# out with this script\n",
    "\n",
    "def send_mail():\n",
    "    server = smtplib.SMTP_SSL('smtp.gmail.com',465)\n",
    "    server.ehlo()\n",
    "    #server.starttls()\n",
    "    server.ehlo()\n",
    "    server.login('anurajkarimbilhere@gmail.com','xxxxxxxxxxxxxx')\n",
    "    \n",
    "    subject = \"The Shirt you want is below $15! Now is your chance to buy!\"\n",
    "    body = \"Alex, This is the moment we have been waiting for. Now is your chance to pick up the shirt of your dreams. Don't mess it up! Link here: https://www.amazon.com/Funny-Data-Systems-Business-Analyst/dp/B07FNW9FGJ/ref=sr_1_3?dchild=1&keywords=data+analyst+tshirt&qid=1626655184&sr=8-3\"\n",
    "   \n",
    "    msg = f\"Subject: {subject}\\n\\n{body}\"\n",
    "    \n",
    "    server.sendmail(\n",
    "        'anurajkarimbilhere@gmail.com',\n",
    "        msg\n",
    "     \n",
    "    )"
   ]
  }
 ],
 "metadata": {
  "kernelspec": {
   "display_name": "Python 3 (ipykernel)",
   "language": "python",
   "name": "python3"
  },
  "language_info": {
   "codemirror_mode": {
    "name": "ipython",
    "version": 3
   },
   "file_extension": ".py",
   "mimetype": "text/x-python",
   "name": "python",
   "nbconvert_exporter": "python",
   "pygments_lexer": "ipython3",
   "version": "3.12.4"
  }
 },
 "nbformat": 4,
 "nbformat_minor": 5
}
